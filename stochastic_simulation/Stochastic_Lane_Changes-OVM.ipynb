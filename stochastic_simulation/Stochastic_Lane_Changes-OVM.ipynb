{
 "cells": [
  {
   "cell_type": "markdown",
   "metadata": {
    "deletable": true,
    "editable": true
   },
   "source": [
    "### Import Modules"
   ]
  },
  {
   "cell_type": "code",
   "execution_count": null,
   "metadata": {
    "collapsed": false,
    "deletable": true,
    "editable": true
   },
   "outputs": [],
   "source": [
    "import numpy as np\n",
    "from scipy.integrate import odeint\n",
    "import matplotlib.pyplot as plt\n",
    "import pandas as pd\n",
    "import time\n",
    "\n",
    "import warnings\n",
    "warnings.filterwarnings('ignore')\n",
    "%matplotlib nbagg"
   ]
  },
  {
   "cell_type": "markdown",
   "metadata": {
    "deletable": true,
    "editable": true
   },
   "source": [
    "Simulation configuration"
   ]
  },
  {
   "cell_type": "code",
   "execution_count": null,
   "metadata": {
    "collapsed": true,
    "deletable": true,
    "editable": true
   },
   "outputs": [],
   "source": [
    "# Number of vehicles to keep track of, e.g. plot headways, positions of chosen vehicles\n",
    "n_cars_plot = 4"
   ]
  },
  {
   "cell_type": "markdown",
   "metadata": {
    "deletable": true,
    "editable": true
   },
   "source": [
    "## Lane-Changing Models"
   ]
  },
  {
   "cell_type": "code",
   "execution_count": null,
   "metadata": {
    "collapsed": false,
    "deletable": true,
    "editable": true
   },
   "outputs": [],
   "source": [
    "def prob_enter(headway, vel, density, t_cur, t_lc, n_cars_cur, beta=2.820):\n",
    "    \"\"\"Probability of a car entering any of the gaps inbetween vehicles\n",
    "\n",
    "    :returns: boolean array, True if a car enters a gap\n",
    "                             False if a car does not enter the gap\n",
    "    \"\"\"\n",
    "    \n",
    "    th = headway #np.divide(headway,vel)  # time headway\n",
    "    \n",
    "    #mu_lc = 2.850 #1.9802 - 32.7937*density\n",
    "    # 3.1 yield 10.973 cars over 45 runs! Perfect. \n",
    "    mu_lc = 3.1 #3.05 #2.98 #3\n",
    "    sigma_lc = .3642\n",
    "    \n",
    "    mu_th = 2.9512 #2.05 - 48.53*density\n",
    "    sigma_th = 0.4255\n",
    "    \n",
    "    # normalization constant\n",
    "    C = np.sqrt(1/sigma_lc**2-1/sigma_th**2) \\\n",
    "        * np.exp(((mu_lc-mu_th)**2 - 2*mu_th*sigma_lc**2 + 2*mu_lc*sigma_th**2 + sigma_th**2*sigma_lc**2)/\n",
    "               (-2*sigma_th**2+2*sigma_lc**2)) \\\n",
    "        / np.sqrt(2*np.pi)\n",
    "        \n",
    "    p_appear = C*np.exp((np.log(th)-mu_th)**2/(2*sigma_th**2) - (np.log(th)-mu_lc)**2/(2*sigma_lc**2))\n",
    "    \n",
    "    #if (t_cur%t_lc)==0 and len(headway)<38:\n",
    "    if (t_cur%t_lc)==0:\n",
    "        #return np.random.rand(len(headway)) < p_appear * t_lc / beta\n",
    "        return np.random.rand(len(headway)) < p_appear\n",
    "    else:\n",
    "        return [False]*len(headway)"
   ]
  },
  {
   "cell_type": "code",
   "execution_count": null,
   "metadata": {
    "collapsed": false,
    "deletable": true,
    "editable": true
   },
   "outputs": [],
   "source": [
    "def prob_exit(headway, vel, density, t_cur, t_lc, n_cars_cur, beta=2.82):\n",
    "    \"\"\"Probability of cars in the lane exitting\n",
    "\n",
    "    :returns: boolean array, True if a car exits the lane\n",
    "                             False if a car does not exit the lane\n",
    "    \"\"\"\n",
    "    \n",
    "    th = headway #np.divide(headway,vel)  # time headway\n",
    "    \n",
    "    mu_lc = 2.7962 #2.0718 - 51.96*density\n",
    "    sigma_lc = 0.4176\n",
    "    \n",
    "    mu_th = 2.9512 #2.05 - 48.53*density\n",
    "    sigma_th = 0.4255\n",
    "    \n",
    "    # normalization constant\n",
    "    C = np.sqrt(1/sigma_lc**2-1/sigma_th**2) \\\n",
    "        * np.exp(((mu_lc-mu_th)**2 - 2*mu_th*sigma_lc**2 + 2*mu_lc*sigma_th**2 + sigma_th**2*sigma_lc**2)/\n",
    "               (-2*sigma_th**2+2*sigma_lc**2)) \\\n",
    "        / np.sqrt(2*np.pi)\n",
    "        \n",
    "    p_disappear = C*np.exp((np.log(th)-mu_th)**2/(2*sigma_th**2) - (np.log(th)-mu_lc)**2/(2*sigma_lc**2))\n",
    "    \n",
    "    #if (t_cur%t_lc)==0 and len(headway)>4:\n",
    "    if (t_cur%t_lc)==0 and n_cars_cur > 4:\n",
    "        #return np.random.rand(len(headway)) < p_disappear * t_lc / beta\n",
    "        return np.random.rand(len(headway)) < p_disappear\n",
    "    else:\n",
    "        return [False]*len(headway)"
   ]
  },
  {
   "cell_type": "markdown",
   "metadata": {
    "deletable": true,
    "editable": true
   },
   "source": [
    "## Car-Following Model"
   ]
  },
  {
   "cell_type": "code",
   "execution_count": null,
   "metadata": {
    "collapsed": true,
    "deletable": true,
    "editable": true
   },
   "outputs": [],
   "source": [
    "def car_following_OVM(y, t, params, y_minus_tau):\n",
    "    \"\"\"Defines car-following behavior of driver-vehicle units.\n",
    "       Behvaior here is specified by the Optimal Velocity Model (OVM)\n",
    "    \n",
    "    :y: state of the system\n",
    "        - first half of the array represents the headway of the cars, ordered in decreasing position\n",
    "        - second half of the array represents the velocity of the cars, ordered as they are in the position half\n",
    "    :t: time interval\n",
    "    :params : parameters of the OVM car-following model\n",
    "              - params['alpha']  : headway gain\n",
    "              - params['beta']   : relative velocity gain\n",
    "              - params['tau']    : driver reaction time [s]\n",
    "              - params['v_max']  : maximum velocity [m/s]\n",
    "              - params['h_go']   : go headway [m]\n",
    "              - params['h_st']   : stop headway [m]\n",
    "    :y_minus_tau: state of the system tau seconds ago\n",
    "    \n",
    "    :returns: dydt - derivative of the states (y)\n",
    "    \"\"\"\n",
    "    \n",
    "    dydt = np.zeros(len(y))\n",
    "    n = int(len(y)/2)\n",
    "    \n",
    "    for i in range(n):\n",
    "        if i==0:\n",
    "            vl = y[-1]                      # velocity of lead vehicle\n",
    "            vl_minus_tau = y_minus_tau[-1]  # lead velocity tau seconds ago\n",
    "        else:\n",
    "            vl = y[n+i-1]\n",
    "            vl_minus_tau = y_minus_tau[n+i-1]\n",
    "    \n",
    "        v = y[n+i]                      # velocity of current vehicle\n",
    "        h = y_minus_tau[i]              # headway of current vehicle\n",
    "        v_minus_tau = y_minus_tau[n+i]  # velocity of current vehicle tau seconds ago\n",
    "        \n",
    "        if h <= params['h_st']:\n",
    "            V = 0\n",
    "        elif h < params['h_go']:\n",
    "            V = params['v_max']/2*(1-np.cos(np.pi*(h-params['h_st'])/(params['h_go']-params['h_st'])))\n",
    "        else:\n",
    "            V = params['v_max']\n",
    "            \n",
    "        dydt[i] = vl - v\n",
    "        dydt[n+i] = params['alpha']*(V-v_minus_tau) + params['beta']*(vl_minus_tau-v_minus_tau)\n",
    "    \n",
    "    return(dydt)"
   ]
  },
  {
   "cell_type": "markdown",
   "metadata": {
    "deletable": true,
    "editable": true
   },
   "source": [
    "## Ring Road"
   ]
  },
  {
   "cell_type": "code",
   "execution_count": null,
   "metadata": {
    "collapsed": false,
    "deletable": true,
    "editable": true
   },
   "outputs": [],
   "source": [
    "class ring_road():\n",
    "    \"\"\"\n",
    "    Simulation of vehicles in a circular lane following the IDM model.\n",
    "    Vehicles are allowed to enter and exit the lane according to the probability \"prob_enter\" and \"prob_exit\"\n",
    "    Certain vehicle units of your choosing can be held constant in the model for analysis purposes\n",
    "    \"\"\"\n",
    "    \n",
    "    def __init__(self, params, n_cars, x_init, v_init, ind_cars_const):\n",
    "        \"\"\"Instantiates the class with the car-following model parameters\n",
    "           Initializes road with a set of vehicles with inital positions and velocities\n",
    "           Specifies vehicles that should not be allowed to exit the road (may be equal to zero)\n",
    "        \n",
    "        :params         : parameters of the car-following model, MUST CONTAIN lr and lc\n",
    "                           - params['lc'] : average vehicle length [m]\n",
    "                           - params['lr'] : length of the circular road [m]\n",
    "        :n_cars         : initial number of cars on the road [unitless]\n",
    "        :x_init         : inital position of each car in the set [m]\n",
    "        :v_init         : initial velocity of each car in the set [m/s]\n",
    "        :ind_cars_const : index of cars in the set that should be held constant (length equal to n_cars_const)\n",
    "        \"\"\"\n",
    "        # car-following parameters\n",
    "        self.params = params\n",
    "        \n",
    "        # parameters that are crucial for simulation\n",
    "        self.lc  = params['lc']\n",
    "        self.lr  = params['lr']\n",
    "        self.tau = params['tau']\n",
    "        \n",
    "        # initial conditions of vehicles\n",
    "        self.n_cars = n_cars\n",
    "        self.x_init = x_init\n",
    "        self.v_init = v_init\n",
    "        self.h_init = np.append(-(x_init[-1]-x_init[0])+params['lr'], x_init[1:]-x_init[:-1]) - params['lc']\n",
    "        \n",
    "        # cars that cannot exit the road\n",
    "        self.ind_cars_const = ind_cars_const\n",
    "    \n",
    "    \n",
    "    def simulate(self, dt, t_final, t_lc=0):\n",
    "        if t_lc == 0:\n",
    "            t_lc = dt\n",
    "        n_cars_const = len(self.ind_cars_const)\n",
    "        \n",
    "        # initialize empty dataframe to collect lane-change data\n",
    "        lane_change_df = pd.DataFrame(columns=('time', 'velocity', 'lead_velocity', 'lag_velocity',\n",
    "                                               'distance_headway', 'type'))\n",
    "        \n",
    "        # store constant cars in the first n columns\n",
    "        ind_variable_cars = np.arange(self.n_cars)\n",
    "        ind_variable_cars = ind_variable_cars[np.invert(np.in1d(ind_variable_cars,self.ind_cars_const))]\n",
    "        ind = np.append(self.ind_cars_const, ind_variable_cars).astype(int)\n",
    "        \n",
    "        # reorganize inital conditions given new index arrangement\n",
    "        y0 = np.append(self.h_init[ind], self.v_init[ind])\n",
    "        \n",
    "        # time range from 0 to t_final\n",
    "        t = np.arange(0, t_final+dt, dt)\n",
    "        \n",
    "        # initialize variables of interest\n",
    "        pos = np.zeros((len(t), int(len(y0)/2)))\n",
    "        pos[0,:] = self.x_init\n",
    "        sol = np.zeros((len(t), len(y0)))\n",
    "        sol[0,:] = y0\n",
    "        num_exits = np.zeros(len(t))\n",
    "        num_enters = np.zeros(len(t))\n",
    "        \n",
    "        n_cars_tot = self.n_cars  # total number of cars to be in the lane\n",
    "        n_cars_cur = np.append(self.n_cars, np.zeros(len(t)-1))  # current number of cars in the lane\n",
    "        ind_cars = np.arange(self.n_cars)\n",
    "        ind_cars = ind_cars[np.argsort(self.x_init[ind])][::-1]  # indeces of the cars currently in the lane\n",
    "                                                                 # organized in decreasing order of position\n",
    "        \n",
    "        for i in range(1,len(t)):\n",
    "            ########## calculate next position and velocity of current cars in lane ##########\n",
    "            sol_i = odeint(car_following_OVM, sol[i-1, np.append(ind_cars, ind_cars+n_cars_tot)], [0,dt],\n",
    "                           args=(self.params,sol[max(0,i-int(self.tau/dt)), np.append(ind_cars, ind_cars+n_cars_tot)]))\n",
    "            \n",
    "            # store new position and velocity data\n",
    "            # set negative velocities to zero\n",
    "            sol[i,np.append(ind_cars, ind_cars+n_cars_tot)] = sol_i[-1,:]\n",
    "            sol[i,:] = sol[i,:].clip(min=0)\n",
    "            \n",
    "            # headway of each car currently in the lane\n",
    "            headway_cur = sol[i, ind_cars]\n",
    "            \n",
    "            # velocity of each car currently in the lane\n",
    "            vel_cur = sol[i, ind_cars+n_cars_tot]\n",
    "            \n",
    "            # store new headway data\n",
    "            pos[i,ind_cars] = pos[i-1,ind_cars]+vel_cur*dt\n",
    "            \n",
    "            \n",
    "            ######## check for situations of lane changes given velocity and headway #########            \n",
    "            \n",
    "            # density of lane\n",
    "            density = 0.02# n_cars_cur[i-1]/self.lr\n",
    "                        \n",
    "            # determine which gaps accept new cars\n",
    "            enter = prob_enter(headway_cur, vel_cur, density, t[i], t_lc, n_cars_cur[i-1])\n",
    "            # determine which cars exit the lane\n",
    "            exit = prob_exit(headway_cur, vel_cur, density, t[i], t_lc, n_cars_cur[i-1])\n",
    "            # ensure that cars that are constant do not exit the lane\n",
    "            exit = np.logical_and(exit, np.logical_not(np.in1d(ind_cars,np.arange(n_cars_const))))\n",
    "            num_exits[i] = sum(exit)\n",
    "            num_enters[i] = sum(enter)\n",
    "            \n",
    "            \n",
    "            ################### collect exit data in lane-change dataframe ###################\n",
    "            \n",
    "            if sum(exit)>0:\n",
    "                ind_exit = np.where(exit)[0]\n",
    "                \n",
    "                exit_time = t[i]*np.ones(sum(exit))\n",
    "                exit_vel = vel_cur[exit]\n",
    "                exit_headway  = headway_cur[exit]\n",
    "                exit_type = [\"Exit\"]*sum(exit)\n",
    "                if exit[0]:\n",
    "                    exit_lead_vel = np.append(vel_cur[-1:], vel_cur[np.where(exit)[0][1:]-1])\n",
    "                else:\n",
    "                    exit_lead_vel = vel_cur[np.where(exit)[0]-1]\n",
    "                    \n",
    "                if exit[-1]:\n",
    "                    # add headways to lagging vehicle of exitted vehicles\n",
    "                    sol[i, np.append(ind_cars[ind_exit[:-1]+1],ind_cars[0])] += sol[i, ind_cars[ind_exit]]\n",
    "                else:\n",
    "                    # add headways to lagging vehicle of exitted vehicles\n",
    "                    sol[i, ind_cars[ind_exit+1]] += sol[i, ind_cars[ind_exit]]\n",
    "\n",
    "                df_exit = pd.DataFrame({'time':exit_time, 'velocity':exit_vel, 'lead_velocity':exit_lead_vel,\n",
    "                                        'distance_headway':exit_headway, 'type':exit_type})\n",
    "                lane_change_df = lane_change_df.append(df_exit, ignore_index=True)\n",
    "            \n",
    "            \n",
    "            ############## update variables given cars that entered and/or exit ##############\n",
    "            \n",
    "            if sum(enter)>0:\n",
    "                ind = np.where(enter)[0]\n",
    "                \n",
    "                # calculate the velocity of the new vehicle ()\n",
    "                v_new = sol[i, ind_cars[ind]+n_cars_tot]\n",
    "                \n",
    "                # calculate the headway of the new vehicle and the vehicle behind it\n",
    "                h_new = 0.5*sol[i, ind_cars[ind]]\n",
    "                h_lag_new = sol[i, ind_cars[ind]] - h_new\n",
    "                sol[i, ind_cars[ind]] = h_lag_new\n",
    "                \n",
    "                # calculate the position of the new vehicles\n",
    "                pos_new = pos[i, ind_cars[ind]]+h_lag_new\n",
    "\n",
    "                # add columns to sol to compensate for the presence of new vehicles\n",
    "                sol = np.insert(sol, [n_cars_const], np.zeros((sol.shape[0], sum(enter))), axis=1)\n",
    "                sol = np.insert(sol, [sum(enter)+n_cars_tot+n_cars_const], np.zeros((sol.shape[0], sum(enter))), axis=1)\n",
    "                \n",
    "                # add initial data of new vehicles into sol\n",
    "                sol[i, np.arange(sum(enter))+n_cars_const] = h_new\n",
    "                sol[i, np.arange(sum(enter))+n_cars_tot+sum(enter)+n_cars_const] = v_new\n",
    "                \n",
    "                # add columns to position to compensate for the presence of new vehicles\n",
    "                pos = np.insert(pos, [n_cars_const], np.zeros((pos.shape[0], sum(enter))), axis=1)\n",
    "                \n",
    "                # update data in headway matrix to account for changes\n",
    "                pos[i, np.arange(sum(enter))+n_cars_const] = pos_new\n",
    "                \n",
    "                # update lane-change dataframe with cars that entered\n",
    "                enter_time = t[i]*np.ones(sum(enter))\n",
    "                enter_type = [\"Enter\"]*sum(enter)\n",
    "                df_enter = pd.DataFrame({'time':enter_time, 'velocity':v_new, 'lead_velocity':v_new,\n",
    "                                         'distance_headway':h_new, 'type':enter_type})\n",
    "                lane_change_df = lane_change_df.append(df_enter, ignore_index=True)\n",
    "            \n",
    "            # update indeces (whether change occured or not), and add cars (if change occured)\n",
    "            exit = np.logical_or(exit, np.in1d(ind_cars,np.arange(n_cars_const)))\n",
    "            ind_cars = np.append(np.append(np.arange(n_cars_const), np.arange(sum(enter))+n_cars_const),\n",
    "                                 ind_cars[np.invert(exit)]+sum(enter))\n",
    "            # order the indeces by position\n",
    "            ind_cars = ind_cars[np.argsort(pos[i, ind_cars])[::-1]]\n",
    "            \n",
    "            n_cars_tot += sum(enter)\n",
    "            n_cars_cur[i] = n_cars_cur[i-1] + sum(enter) - sum(exit) + n_cars_const\n",
    "            \n",
    "            \n",
    "        pos_rad = np.divide(pos, self.lr) * 2*np.pi  # position in terms of radians\n",
    "        pos_absolute = pos  # absolute position of every car, in meters\n",
    "        headway = sol[:,:int(sol.shape[1]/2)]  # headway of every cars at every point in time\n",
    "        vel = sol[:,int(sol.shape[1]/2):]  # velocity of every cars at every point in time, 0 if car is not avaialable\n",
    "        \n",
    "        return(pos_absolute, pos_rad, vel, headway, lane_change_df, n_cars_cur, num_exits, num_enters)"
   ]
  },
  {
   "cell_type": "markdown",
   "metadata": {
    "deletable": true,
    "editable": true
   },
   "source": [
    "# Main"
   ]
  },
  {
   "cell_type": "markdown",
   "metadata": {
    "deletable": true,
    "editable": true
   },
   "source": [
    "## Initialization"
   ]
  },
  {
   "cell_type": "code",
   "execution_count": null,
   "metadata": {
    "collapsed": false,
    "deletable": true,
    "editable": true
   },
   "outputs": [],
   "source": [
    "# define parameters of interest for the car following model\n",
    "params = {'alpha':0.6, 'beta':0.9, 'tau':0.4, 'v_max':30, 'h_go':35, 'h_st':5, 'lc':0, 'lr':230}\n",
    "\n",
    "# specify initial conditions\n",
    "n_cars = 12  # number of cars\n",
    "x_init = t = np.linspace(0, float(params['lr'])-float(params['lr'])/n_cars, n_cars)  # initial position of cars\n",
    "v_init = 10*np.ones(n_cars)  # initial velocity of cars\n",
    "\n",
    "# indeces of cars that do not change lanes\n",
    "ind_cars_const = np.array([])\n",
    "\n",
    "# initialize model\n",
    "model = ring_road(params, n_cars, x_init, v_init, ind_cars_const)"
   ]
  },
  {
   "cell_type": "markdown",
   "metadata": {
    "deletable": true,
    "editable": true
   },
   "source": [
    "# Simulation"
   ]
  },
  {
   "cell_type": "code",
   "execution_count": null,
   "metadata": {
    "collapsed": false,
    "deletable": true,
    "editable": true,
    "scrolled": false
   },
   "outputs": [],
   "source": [
    "dt = 0.025    # update time [s]\n",
    "t_final = 900  # simulation time [s]\n",
    "lane_change_step = 2\n",
    "\n",
    "## begin simulation\n",
    "t1 = time.time()\n",
    "# try changing r_lc to .5\n",
    "pos_absolute, pos_rad, vel, headway, lane_change_df, n_cars_cur, num_exits, num_enters = model.simulate(dt, t_final, t_lc=lane_change_step)\n",
    "t2 = time.time()\n",
    "\n",
    "print(\"Simulation Time:\", t2-t1)\n",
    "print(\"Avg car num:\", np.average(n_cars_cur))\n",
    "print(\"Avg velocity:\", np.average(vel))\n",
    "print(\"Total lane-change\", np.sum(num_exits) + np.sum(num_enters))"
   ]
  },
  {
   "cell_type": "markdown",
   "metadata": {},
   "source": [
    "## Avg Number of Car Calibration"
   ]
  },
  {
   "cell_type": "code",
   "execution_count": null,
   "metadata": {
    "collapsed": false
   },
   "outputs": [],
   "source": [
    "dt = 0.025    # update time [s]\n",
    "t_final = 1000  # simulation time [s]\n",
    "lane_change_step = 2\n",
    "num_runs = 30\n",
    "avg_car_num = np.zeros(num_runs)\n",
    "avg_vel = np.zeros(num_runs)\n",
    "## begin simulation\n",
    "for i in range(num_runs):\n",
    "    print(i)\n",
    "    t1 = time.time()\n",
    "    # try changing r_lc to .5\n",
    "    pos_absolute, pos_rad, vel, headway, lane_change_df, n_cars_cur, num_exits, num_enters = model.simulate(dt, t_final, t_lc=lane_change_step)\n",
    "    t2 = time.time()\n",
    "    avg_car_num[i] = np.average(n_cars_cur)\n",
    "    avg_vel[i] = np.average(np.sum(vel, axis=1)/np.sum(vel!=0, axis=1))\n",
    "\n",
    "print(\"Simulation Time:\", t2-t1)\n",
    "print(avg_vel)\n",
    "print(\"Avg velocity:\", np.average(avg_vel))\n",
    "print(avg_car_num)\n",
    "print(\"Avg car num over runs:\", np.average(avg_car_num))"
   ]
  },
  {
   "cell_type": "markdown",
   "metadata": {
    "deletable": true,
    "editable": true
   },
   "source": [
    "## Visualization"
   ]
  },
  {
   "cell_type": "markdown",
   "metadata": {
    "deletable": true,
    "editable": true
   },
   "source": [
    "### Video"
   ]
  },
  {
   "cell_type": "code",
   "execution_count": null,
   "metadata": {
    "collapsed": false,
    "deletable": true,
    "editable": true,
    "scrolled": false
   },
   "outputs": [],
   "source": [
    "import time\n",
    "\n",
    "fig = plt.figure(figsize=(10,10))\n",
    "ax = fig.add_subplot(111)\n",
    "\n",
    "# initial x and y data\n",
    "x = 45 * np.cos(pos_rad)\n",
    "y = 45 * np.sin(pos_rad)\n",
    "\n",
    "li1, = ax.plot(x[0,4:], y[0,4:], 'o')\n",
    "li2, = ax.plot(x[0,:4], y[0,:4], 'o', c='r')\n",
    "\n",
    "# draw circular road\n",
    "circle1 = plt.Circle((0, 0), 42, color='k', fill=False)\n",
    "circle2 = plt.Circle((0, 0), 48, color='k', fill=False)\n",
    "ax.add_artist(circle1)\n",
    "ax.add_artist(circle2)\n",
    "\n",
    "# draw and show it\n",
    "fig.canvas.draw()\n",
    "plt.xlim([-55,55])\n",
    "plt.ylim([-55,55])\n",
    "plt.show(block=False)\n",
    "\n",
    "# loop to update the data\n",
    "for i in range(1,x.shape[0],10):\n",
    "    # set the new data\n",
    "    li1.set_xdata(x[i,pos_rad[i,:]!=0])\n",
    "    li1.set_ydata(y[i,pos_rad[i,:]!=0])\n",
    "    li2.set_xdata(x[i,pos_rad[i,:len(model.ind_cars_const)]!=0])\n",
    "    li2.set_ydata(y[i,pos_rad[i,:len(model.ind_cars_const)]!=0])\n",
    "    \n",
    "    fig.canvas.draw()\n",
    "    #time.sleep(0.05)"
   ]
  },
  {
   "cell_type": "markdown",
   "metadata": {
    "deletable": true,
    "editable": true
   },
   "source": [
    "### Position Profile (Time-space diagram)"
   ]
  },
  {
   "cell_type": "code",
   "execution_count": null,
   "metadata": {
    "collapsed": false,
    "deletable": true,
    "editable": true
   },
   "outputs": [],
   "source": [
    "pos_absolute.shape"
   ]
  },
  {
   "cell_type": "code",
   "execution_count": null,
   "metadata": {
    "collapsed": false,
    "deletable": true,
    "editable": true,
    "scrolled": false
   },
   "outputs": [],
   "source": [
    "# Plot all cars at once, but for a snippet of the overall simulation run\n",
    "step_min, step_max = 0, 1000  # start\n",
    "# step_min, step_max = 19000, 20000  # end\n",
    "\n",
    "t = np.arange(0, t_final+dt, dt)\n",
    "\n",
    "plt.figure(figsize=(10,6))\n",
    "\n",
    "# i is each vehicle that ever exists in the simulation\n",
    "for i in range(int(pos_absolute.shape[1])):\n",
    "    valid_ind = pos_absolute[step_min:step_max,i]!=0\n",
    "    plt.plot(t[step_min:step_max][valid_ind], pos_absolute[step_min:step_max,:][valid_ind][:,i])\n",
    "\n",
    "plt.title(\"Position Profile of Each Car\")\n",
    "plt.xlabel('time (s)')\n",
    "plt.ylabel('position (m)')\n",
    "plt.show()"
   ]
  },
  {
   "cell_type": "markdown",
   "metadata": {
    "deletable": true,
    "editable": true
   },
   "source": [
    "### Headway Profile (Convergence plot)"
   ]
  },
  {
   "cell_type": "code",
   "execution_count": null,
   "metadata": {
    "collapsed": false,
    "deletable": true,
    "editable": true
   },
   "outputs": [],
   "source": [
    "print(\"Average number of cars (nbar):\", np.average(n_cars_cur))\n",
    "# TODO compute the equilibrium headway and velocity at nbar\n",
    "print(\"h_nbar^*:\")\n",
    "print(\"v_nbar^*:\")"
   ]
  },
  {
   "cell_type": "code",
   "execution_count": null,
   "metadata": {
    "collapsed": false,
    "deletable": true,
    "editable": true
   },
   "outputs": [],
   "source": [
    "t = np.arange(0, t_final+dt, dt)\n",
    "\n",
    "# calculate average headway\n",
    "avg_headway = np.zeros(headway.shape[0])\n",
    "convg_headway = np.zeros(headway.shape[0])\n",
    "\n",
    "for i in range(avg_headway.shape[0]):\n",
    "    avg_headway[i] = np.sum(headway[i,:])/sum(headway[i,:]!=0)\n",
    "    convg_headway[i] = np.average(avg_headway[0:i])\n",
    "    \n",
    "plt.figure(figsize=(10,6))\n",
    "\n",
    "plt.plot(t[avg_headway!=0], avg_headway[avg_headway!=0], label=\"Headway\")\n",
    "plt.plot(t[convg_headway!=0], convg_headway[convg_headway!=0], label='Running average', linewidth=2)\n",
    "\n",
    "plt.plot(t,np.ones(t.shape[0]) * 31.5199, 'r', label='Expected headway', linewidth=2)\n",
    "\n",
    "plt.plot(t,np.ones(t.shape[0]) * 230 / 7.8449, 'c', label='Without LC perturbations', linewidth=2)\n",
    "\n",
    "plt.legend(loc=1)\n",
    "plt.figure(figsize=(10,6))\n",
    "\n",
    "for i in range(headway.shape[1]):\n",
    "    plt.plot(t[headway[:,i]!=0], headway[headway[:,i]!=0][:,i])\n",
    "\n",
    "plt.title(\"Headway Profile of Selected Cars\")\n",
    "plt.xlabel('time (s)')\n",
    "plt.ylabel('headway (m)')\n",
    "plt.show()"
   ]
  },
  {
   "cell_type": "markdown",
   "metadata": {
    "deletable": true,
    "editable": true
   },
   "source": [
    "### Velocity Profile"
   ]
  },
  {
   "cell_type": "code",
   "execution_count": null,
   "metadata": {
    "collapsed": false,
    "deletable": true,
    "editable": true
   },
   "outputs": [],
   "source": [
    "t = np.arange(0, t_final+dt, dt)\n",
    "\n",
    "avg_vel = np.zeros(vel.shape[0])\n",
    "convg_vel = np.zeros(vel.shape[0])\n",
    "for i in range(avg_vel.shape[0]):\n",
    "    avg_vel[i] = np.sum(vel[i,:])/sum(vel[i,:]!=0)\n",
    "    convg_vel[i] = np.average(avg_vel[0:i])\n",
    "\n",
    "print(convg_vel[-1])\n",
    "plt.figure(figsize=(10,6))\n",
    "plt.plot(t[avg_vel!=0], avg_vel[avg_vel!=0], label=\"Velocity\")\n",
    "plt.plot(t[convg_vel!=0], convg_vel[convg_vel!=0], label='Running average', linewidth=2)\n",
    "\n",
    "plt.plot(t,np.ones(t.shape[0]) * 23.6504, 'r', label='Expected velocity', linewidth=2)\n",
    "\n",
    "plt.plot(t,np.ones(t.shape[0]) * 27.4224, 'c', \n",
    "         label='Without LC perturbations', linewidth=2)\n",
    "\n",
    "plt.legend(loc=4)\n",
    "plt.title(\"Velocity Profile of average\")\n",
    "plt.xlabel('time (s)')\n",
    "plt.ylabel('velocity (m/s)')\n",
    "plt.show()    \n",
    "    \n",
    "plt.figure(figsize=(10,6))\n",
    "\n",
    "for i in range(vel.shape[1]):\n",
    "    plt.plot(t[vel[:,i]!=0], vel[vel[:,i]!=0,i])\n",
    "\n",
    "plt.title(\"Velocity Profile of Each Car\")\n",
    "plt.xlabel('time (s)')\n",
    "plt.ylabel('velocity (m/s)')\n",
    "plt.show()"
   ]
  },
  {
   "cell_type": "markdown",
   "metadata": {
    "collapsed": false,
    "deletable": true,
    "editable": true
   },
   "source": [
    "### Number of Cars vs. Time"
   ]
  },
  {
   "cell_type": "code",
   "execution_count": null,
   "metadata": {
    "collapsed": false,
    "deletable": true,
    "editable": true,
    "scrolled": false
   },
   "outputs": [],
   "source": [
    "#EVL = params['s0']+params['lc']   # effective vehicle length\n",
    "#max_occupancy = params['lr']/EVL  # maximum number of cars on the road\n",
    "\n",
    "t = np.arange(0, t_final+dt, dt)\n",
    "\n",
    "\n",
    "# calculate the average number of cars over time\n",
    "avg_cars = np.zeros(n_cars_cur.shape[0])\n",
    "for i in range(avg_cars.shape[0]):\n",
    "    avg_cars[i] = np.average(n_cars_cur[0:i])\n",
    "    \n",
    "print(avg_cars[-1])  \n",
    "\n",
    "\n",
    "plt.figure(figsize=(10,6))\n",
    "\n",
    "plt.plot(t,n_cars_cur, label='Number of cars')\n",
    "plt.plot(t,avg_cars, label='Running average', linewidth=2)\n",
    "\n",
    "plt.plot(t,np.ones(t.shape[0]) * 7.8449, 'r', label='Expected number of cars', linewidth=2)\n",
    "\n",
    "plt.plot(t,np.ones(t.shape[0]) * 230 / (31.5199 + params['lc']), 'c', \n",
    "         label='Without LC perturbations', linewidth=2)\n",
    "\n",
    "# max occupancy is over 160, I recommend not putting\n",
    "#plt.plot(t,max_occupancy*np.ones(len(t)))\n",
    "\n",
    "plt.legend()\n",
    "\n",
    "plt.title(\"Number of Cars vs. Time\")\n",
    "plt.xlabel('time (s)')\n",
    "\n",
    "plt.ylabel('Number of Cars')\n",
    "plt.show()"
   ]
  },
  {
   "cell_type": "markdown",
   "metadata": {},
   "source": [
    "## Number of Lane Changes"
   ]
  },
  {
   "cell_type": "code",
   "execution_count": null,
   "metadata": {
    "collapsed": false
   },
   "outputs": [],
   "source": [
    "t = np.arange(0, t_final+dt, dt)\n",
    "\n",
    "# calculate the average number of lane changes\n",
    "avg_exits = np.zeros(n_cars_cur.shape[0])\n",
    "avg_enters = np.zeros(n_cars_cur.shape[0])\n",
    "total_lc = np.zeros(n_cars_cur.shape[0])\n",
    "unit = 60; \n",
    "lc_per_min = np.zeros(np.floor(len(t)/(unit/dt)))\n",
    "for i in range(len(t)):\n",
    "    avg_exits[i] = np.average(num_exits[0:i])\n",
    "    avg_enters[i] = np.average(num_enters[0:i])\n",
    "    total_lc[i] = np.sum(num_enters[0:i]) + np.sum(num_exits[0:i])\n",
    "\n",
    "plt.figure(figsize=(10,6))\n",
    "plt.plot(t,avg_exits, label='Running average number of exits')\n",
    "plt.plot(t,avg_enters, label='Running average number of enters', linewidth=2)\n",
    "plt.legend()\n",
    "plt.title(\"Average LC vs. Time\")\n",
    "plt.xlabel('time (s)')\n",
    "plt.ylabel('Average number of lane changes')\n",
    "\n",
    "plt.figure(figsize=(10,6))\n",
    "plt.plot(t, total_lc)\n",
    "plt.title('Total number of lane changes vs. time')\n",
    "plt.xlabel('time (s)')\n",
    "plt.ylabel('Total number of lane changes')\n",
    "\n",
    "# plot lane changes per minute\n",
    "min_step = int(np.floor(unit/dt))\n",
    "for i in range(int(np.floor(len(t)/(unit/dt)))):\n",
    "    lc_per_min[i] = np.sum(num_enters[(i-1)*min_step:i*min_step]) + np.sum(num_exits[(i-1)*min_step:i*min_step])\n",
    "    \n",
    "plt.figure(figsize=(10,6))\n",
    "plt.scatter(range(int(np.floor(len(t)/(unit/dt)))), lc_per_min)\n",
    "plt.title('Number of lane changes per {0} seconds'.format(unit))\n",
    "plt.xlabel('time')\n",
    "plt.ylabel('Number of lane changes')\n",
    "\n",
    "plt.show()\n",
    "print(total_lc[-1])"
   ]
  },
  {
   "cell_type": "code",
   "execution_count": null,
   "metadata": {
    "collapsed": false,
    "deletable": true,
    "editable": true,
    "scrolled": true
   },
   "outputs": [],
   "source": [
    "lane_change_df"
   ]
  },
  {
   "cell_type": "code",
   "execution_count": null,
   "metadata": {
    "collapsed": false,
    "deletable": true,
    "editable": true
   },
   "outputs": [],
   "source": [
    "th = np.arange(0,100,0.1)\n",
    "\n",
    "mu_lc = 3 #1.9802 - 32.7937*density\n",
    "sigma_lc = 0.4047\n",
    "\n",
    "mu_th = 2.9699 #2.05 - 48.53*density\n",
    "sigma_th = 0.455\n",
    "\n",
    "# normalization constant\n",
    "C = np.sqrt(1/sigma_lc**2-1/sigma_th**2) \\\n",
    "    * np.exp(((mu_lc-mu_th)**2 - 2*mu_th*sigma_lc**2 + 2*mu_lc*sigma_th**2 + sigma_th**2*sigma_lc**2)/\n",
    "           (-2*sigma_th**2+2*sigma_lc**2)) \\\n",
    "    / np.sqrt(2*np.pi)\n",
    "\n",
    "p_appear = C*np.exp((np.log(th)-mu_th)**2/(2*sigma_th**2) - (np.log(th)-mu_lc)**2/(2*sigma_lc**2))    \n",
    "    \n",
    "mu_lc = 2.8202 #2.0718 - 51.96*density\n",
    "sigma_lc = 0.44\n",
    "\n",
    "mu_th = 2.9699 #2.05 - 48.53*density\n",
    "sigma_th = 0.455\n",
    "\n",
    "# normalization constant\n",
    "C = np.sqrt(1/sigma_lc**2-1/sigma_th**2) \\\n",
    "    * np.exp(((mu_lc-mu_th)**2 - 2*mu_th*sigma_lc**2 + 2*mu_lc*sigma_th**2 + sigma_th**2*sigma_lc**2)/\n",
    "           (-2*sigma_th**2+2*sigma_lc**2)) \\\n",
    "    / np.sqrt(2*np.pi)\n",
    "\n",
    "p_disappear = C*np.exp((np.log(th)-mu_th)**2/(2*sigma_th**2) - (np.log(th)-mu_lc)**2/(2*sigma_lc**2))\n",
    "\n",
    "plt.figure()\n",
    "plt.plot(nc,p_disappear)\n",
    "plt.plot(nc,p_appear)\n",
    "plt.legend(['disappear','appear'])\n",
    "plt.xlim([0,100])\n",
    "plt.show()"
   ]
  },
  {
   "cell_type": "code",
   "execution_count": null,
   "metadata": {
    "collapsed": true,
    "deletable": true,
    "editable": true
   },
   "outputs": [],
   "source": [
    "nc = 230/th"
   ]
  },
  {
   "cell_type": "code",
   "execution_count": null,
   "metadata": {
    "collapsed": false,
    "deletable": true,
    "editable": true,
    "scrolled": true
   },
   "outputs": [],
   "source": [
    "nc"
   ]
  },
  {
   "cell_type": "code",
   "execution_count": null,
   "metadata": {
    "collapsed": false,
    "deletable": true,
    "editable": true
   },
   "outputs": [],
   "source": [
    "p_appear[11*10]"
   ]
  },
  {
   "cell_type": "code",
   "execution_count": null,
   "metadata": {
    "collapsed": true,
    "deletable": true,
    "editable": true
   },
   "outputs": [],
   "source": []
  }
 ],
 "metadata": {
  "anaconda-cloud": {},
  "kernelspec": {
   "display_name": "Python [conda env:rllab3]",
   "language": "python",
   "name": "conda-env-rllab3-py"
  },
  "language_info": {
   "codemirror_mode": {
    "name": "ipython",
    "version": 3
   },
   "file_extension": ".py",
   "mimetype": "text/x-python",
   "name": "python",
   "nbconvert_exporter": "python",
   "pygments_lexer": "ipython3",
   "version": "3.5.2"
  }
 },
 "nbformat": 4,
 "nbformat_minor": 2
}
